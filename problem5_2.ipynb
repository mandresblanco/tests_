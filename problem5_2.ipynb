{
  "nbformat": 4,
  "nbformat_minor": 0,
  "metadata": {
    "colab": {
      "name": "problem5_2.ipynb",
      "provenance": [],
      "collapsed_sections": [],
      "authorship_tag": "ABX9TyP71oxQKub2L8t3WHEWhfDs",
      "include_colab_link": true
    },
    "kernelspec": {
      "name": "python3",
      "display_name": "Python 3"
    },
    "language_info": {
      "name": "python"
    }
  },
  "cells": [
    {
      "cell_type": "markdown",
      "metadata": {
        "id": "view-in-github",
        "colab_type": "text"
      },
      "source": [
        "<a href=\"https://colab.research.google.com/github/mandresblanco/tests_/blob/main/problem5_2.ipynb\" target=\"_parent\"><img src=\"https://colab.research.google.com/assets/colab-badge.svg\" alt=\"Open In Colab\"/></a>"
      ]
    },
    {
      "cell_type": "markdown",
      "metadata": {
        "id": "efqTqwvgqcFA"
      },
      "source": [
        "The following are weight values (in pounds) for 20 people:\n",
        "164, 158, 172, 153, 144, 156, 189, 163, 134, 159, 143, 176, 177, 162, 141, 151, 182, 185,\n",
        "171, 152.\n",
        "Using Python, find the mean, median, and standard deviation; and then plot a histogram"
      ]
    },
    {
      "cell_type": "code",
      "metadata": {
        "id": "rRNH13wGqbbI"
      },
      "source": [
        "import numpy as np\n",
        "import matplotlib.pyplot as plt"
      ],
      "execution_count": 5,
      "outputs": []
    },
    {
      "cell_type": "code",
      "metadata": {
        "colab": {
          "base_uri": "https://localhost:8080/"
        },
        "id": "f9gMACLxrICO",
        "outputId": "53db2e6d-dc21-41f6-f3d1-e596fcb47e66"
      },
      "source": [
        "\n",
        "X=[164, 158, 172, 153, 144, 156, 189, 163, 134, 159, 143, 176, 177, 162, 141, 151, 182, 185, 171, 152]\n",
        "# X=sorted(X)\n",
        "# print(X)\n",
        "mean = np.mean(X)\n",
        "median = np.median(X)\n",
        "std = np.std(X)\n",
        "print('mean:', mean, 'median:', median, 'sdt:', std)"
      ],
      "execution_count": 13,
      "outputs": [
        {
          "output_type": "stream",
          "text": [
            "mean: 161.6 median: 160.5 sdt: 15.057888298164519\n"
          ],
          "name": "stdout"
        }
      ]
    },
    {
      "cell_type": "code",
      "metadata": {
        "colab": {
          "base_uri": "https://localhost:8080/",
          "height": 312
        },
        "id": "6Lqu9P6XsBf1",
        "outputId": "d9f835f2-3be8-408a-f26a-b35c14a0fbea"
      },
      "source": [
        "plt.hist(X, bins=10, color='g')\n",
        "plt.xlabel('Weight')\n",
        "plt.ylabel('People')\n",
        "plt.title('Histogram')"
      ],
      "execution_count": 16,
      "outputs": [
        {
          "output_type": "execute_result",
          "data": {
            "text/plain": [
              "Text(0.5, 1.0, 'Histogram')"
            ]
          },
          "metadata": {
            "tags": []
          },
          "execution_count": 16
        },
        {
          "output_type": "display_data",
          "data": {
            "image/png": "[encoded data removed]",
            "text/plain": [
              "<Figure size 432x288 with 1 Axes>"
            ]
          },
          "metadata": {
            "tags": [],
            "needs_background": "light"
          }
        }
      ]
    }
  ]
}