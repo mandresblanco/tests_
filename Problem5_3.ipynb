{
  "nbformat": 4,
  "nbformat_minor": 0,
  "metadata": {
    "colab": {
      "name": "Problem5_3.ipynb",
      "provenance": [],
      "collapsed_sections": [],
      "authorship_tag": "ABX9TyNKYOoJGPJsfff4pxftBStL",
      "include_colab_link": true
    },
    "kernelspec": {
      "name": "python3",
      "display_name": "Python 3"
    },
    "language_info": {
      "name": "python"
    }
  },
  "cells": [
    {
      "cell_type": "markdown",
      "metadata": {
        "id": "view-in-github",
        "colab_type": "text"
      },
      "source": [
        "<a href=\"https://colab.research.google.com/github/mandresblanco/tests_/blob/main/Problem5_3.ipynb\" target=\"_parent\"><img src=\"https://colab.research.google.com/assets/colab-badge.svg\" alt=\"Open In Colab\"/></a>"
      ]
    },
    {
      "cell_type": "markdown",
      "metadata": {
        "id": "AZ9B5q3vtpRB"
      },
      "source": [
        "**You are given a dataset named boston (OA 5.7). This dataset contains information collected\n",
        "by the US Census Service concerning housing in the area of Boston, Mass. The dataset is\n",
        "small in size, with only 506 cases. The data was originally published by Harrison, D., &\n",
        "Rubinfeld, D.L. (1978). Hedonic prices and the demand for clean air. Journal of\n",
        "Environmental Economics and Management, 5, 81–102.\n",
        "Here are the variables captured in this dataset:**"
      ]
    },
    {
      "cell_type": "markdown",
      "metadata": {
        "id": "TK_W_3pvtyvw"
      },
      "source": [
        "CRIM – per capita crime rate by town\n",
        "\n",
        "ZN – proportion of residential land zoned for lots over 25,000 sq.ft.\n",
        "\n",
        "INDUS – proportion of non-retail business acres per town.\n",
        "\n",
        "CHAS – Charles River dummy variable (1 if tract bounds river; 0 otherwise) \n",
        "\n",
        "NOX – nitric oxides concentration (parts per 10 million)\n",
        "\n",
        "RM – average number of rooms per dwelling\n",
        "\n",
        "AGE – proportion of owner-occupied units built prior to 1940\n",
        "\n",
        "DIS – weighted distances to five Boston employment centres\n",
        "\n",
        "RAD – index of accessibility to radial highways\n",
        "\n",
        "TAX – full-value property-tax rate per 10,000\n",
        "\n",
        "PTRATIO – pupil-teacher ratio by town\n",
        "\n",
        "B – 1000(Bk – 0.63)^2 where Bk is the proportion of blacks by town\n",
        "\n",
        "LSTAT – % lower status of the population\n",
        "\n",
        "MEDV – median value of owner-occupied homes in 1000’s"
      ]
    },
    {
      "cell_type": "markdown",
      "metadata": {
        "id": "RpbuLyeZuNYz"
      },
      "source": [
        "**Using appropriate correlation and regression tests, find which of the variables is the best\n",
        "predictor of NOX (nitric oxides concentration). For that model, provide the regression plot\n",
        "and equation.**\n",
        "\n",
        "**Using appropriate correlation and regression tests, find which of the variables is the best\n",
        "predictor of MEDV (median home value). For that model, provide the regression plot and\n",
        "equation**"
      ]
    },
    {
      "cell_type": "code",
      "metadata": {
        "id": "7IGozqLUtmWm"
      },
      "source": [
        "import numpy as np\n",
        "import pandas as pd\n",
        "import statsmodels.api as sm\n",
        "import matplotlib.pyplot as plt\n"
      ],
      "execution_count": 95,
      "outputs": []
    },
    {
      "cell_type": "code",
      "metadata": {
        "id": "lmyNvWOguzCJ"
      },
      "source": [
        "df = pd.read_csv('/content/OA 5.7 - boston.csv')\n",
        "# print(df)\n",
        "CRIM = df.CRIM\t\n",
        "CRIM = sm.add_constant(CRIM)\n",
        "ZN = df.ZN\n",
        "ZN = sm.add_constant(ZN)\n",
        "NDUS = df.NDUS\n",
        "NDUS = sm.add_constant(NDUS)\n",
        "CHAS = df.CHAS\n",
        "CHAS = sm.add_constant(CHAS)\n",
        "NOX = df.NOX\n",
        "# NOX = sm.add_constant(NOX)\n",
        "RM = df.RM\n",
        "RM = sm.add_constant(RM)\n",
        "AGE = df.AGE\n",
        "AGE = sm.add_constant(AGE)\n",
        "DIS = df.DIS\n",
        "DIS = sm.add_constant(DIS)\n",
        "RAD = df.RAD\n",
        "RAD = sm.add_constant(RAD)\n",
        "TAX = df.TAX\n",
        "TAX = sm.add_constant(TAX)\n",
        "PTRATIO = df.PTRATIO\n",
        "PTRATIO = sm.add_constant(PTRATIO)\n",
        "B = df.B\n",
        "B = sm.add_constant(B)\n",
        "LSTAT = df.LSTAT\n",
        "LSTAT = sm.add_constant(LSTAT)\n",
        "MEDV = df.MEDV\n",
        "MEDV = sm.add_constant(MEDV)\n",
        "\n"
      ],
      "execution_count": 111,
      "outputs": []
    },
    {
      "cell_type": "code",
      "metadata": {
        "id": "2A2GLjJ90Nma"
      },
      "source": [
        "#Using appropriate correlation and regression tests, find which of the variables is the best predictor of NOX \n",
        "#(nitric oxides concentration). For that model, provide the regression plot and equation.\n",
        "# k = [CRIM, ZN, NDUS, CHAS, RM, AGE, DIS, RAD, TAX, PTRATIO, B, LSTAT, MEDV] \n",
        "# o=0\n",
        "# for i in k:\n",
        "#     print(o)\n",
        "#     results = sm.OLS(NOX,i).fit()\n",
        "#     print(results.summary())\n",
        "   \n",
        "#     o=o+1 \n",
        "\n",
        "################################################################################################################\n",
        "\n",
        "#Using appropriate correlation and regression tests, find which of the variables is the best predictor of MEDV \n",
        "#(median home value). For that model, provide the regression plot and equation\n",
        "\n",
        "# k = [CRIM, ZN, NDUS, CHAS, NOX, RM, AGE, DIS, RAD, TAX, PTRATIO, B, LSTAT] \n",
        "# o=0\n",
        "# for i in k:\n",
        "#      print(o)\n",
        "#      results = sm.OLS(MEDV, i).fit()\n",
        "#      print(results.summary())\n",
        "   \n",
        "#      o=o+1 \n"
      ],
      "execution_count": 114,
      "outputs": []
    },
    {
      "cell_type": "markdown",
      "metadata": {
        "id": "VyVAD7Rw_mFp"
      },
      "source": [
        "#WITH DIS AND NOX WE GOT 59.1% "
      ]
    },
    {
      "cell_type": "code",
      "metadata": {
        "colab": {
          "base_uri": "https://localhost:8080/",
          "height": 300
        },
        "id": "koLIMPPW3unG",
        "outputId": "755d30cb-50ad-4fde-fda3-36656fd1e7e3"
      },
      "source": [
        "X = np.linspace(df.DIS.min(), df.DIS.max(), 100)\n",
        "X = sm.add_constant(X)\n",
        "\n",
        "results = sm.OLS(NOX, DIS).fit()\n",
        "y = results.predict(X)\n",
        "\n",
        "plt.scatter(df.DIS, NOX) # Plot the raw data\n",
        "plt.xlabel('DIS')\n",
        "plt.ylabel('NOX')\n",
        "plt.plot(X[:, 1], y, 'red', alpha=1)"
      ],
      "execution_count": 113,
      "outputs": [
        {
          "output_type": "execute_result",
          "data": {
            "text/plain": [
              "[<matplotlib.lines.Line2D at 0x7f804144cc50>]"
            ]
          },
          "metadata": {
            "tags": []
          },
          "execution_count": 113
        },
        {
          "output_type": "display_data",
          "data": {
            "image/png": "[encoded data removed]",
            "text/plain": [
              "<Figure size 432x288 with 1 Axes>"
            ]
          },
          "metadata": {
            "tags": [],
            "needs_background": "light"
          }
        }
      ]
    },
    {
      "cell_type": "markdown",
      "metadata": {
        "id": "t6tFP8xnDX8N"
      },
      "source": [
        "#WITH LSTAT AND MEDV WE GOT 54.3%"
      ]
    },
    {
      "cell_type": "code",
      "metadata": {
        "colab": {
          "base_uri": "https://localhost:8080/",
          "height": 283
        },
        "id": "0LEI6qfcx0ip",
        "outputId": "e8b125bb-2a80-462d-c36a-af099e048f07"
      },
      "source": [
        "X = np.linspace(df.LSTAT.min(), df.LSTAT.max(), 100)\n",
        "X = sm.add_constant(X)\n",
        "\n",
        "results = sm.OLS(MEDV,LSTAT).fit()\n",
        "y = results.predict(X)\n",
        "\n",
        "plt.scatter(df.LSTAT, MEDV) # Plot the raw data\n",
        "# plt.xlabel('Inventory/$1000')\n",
        "# plt.ylabel('Annual net sales')\n",
        "# # Add the regression line, colored in red\n",
        "plt.plot(X[:, 1], y, 'red', alpha=1)"
      ],
      "execution_count": 107,
      "outputs": [
        {
          "output_type": "execute_result",
          "data": {
            "text/plain": [
              "[<matplotlib.lines.Line2D at 0x7f804098c550>]"
            ]
          },
          "metadata": {
            "tags": []
          },
          "execution_count": 107
        },
        {
          "output_type": "display_data",
          "data": {
            "image/png": "[encoded data removed]",
            "text/plain": [
              "<Figure size 432x288 with 1 Axes>"
            ]
          },
          "metadata": {
            "tags": [],
            "needs_background": "light"
          }
        }
      ]
    }
  ]
}