{
  "nbformat": 4,
  "nbformat_minor": 0,
  "metadata": {
    "colab": {
      "name": "Superstore_1.ipynb",
      "provenance": [],
      "authorship_tag": "ABX9TyOqqYC1ZfKT2u4rd0um1ebj",
      "include_colab_link": true
    },
    "kernelspec": {
      "name": "python3",
      "display_name": "Python 3"
    },
    "language_info": {
      "name": "python"
    }
  },
  "cells": [
    {
      "cell_type": "markdown",
      "metadata": {
        "id": "view-in-github",
        "colab_type": "text"
      },
      "source": [
        "<a href=\"https://colab.research.google.com/github/mandresblanco/tests_/blob/main/Superstore_1.ipynb\" target=\"_parent\"><img src=\"https://colab.research.google.com/assets/colab-badge.svg\" alt=\"Open In Colab\"/></a>"
      ]
    },
    {
      "cell_type": "code",
      "metadata": {
        "id": "uTnrSq__OIi5"
      },
      "source": [
        "import pandas as pd\n",
        "import numpy as np\n",
        "import datetime\n",
        "import matplotlib.pyplot as plt"
      ],
      "execution_count": 4,
      "outputs": []
    },
    {
      "cell_type": "code",
      "metadata": {
        "id": "l6mpWviqOLyJ"
      },
      "source": [
        "df = pd.read_excel('/content/superstore_09bda538-16bc-4a44-900e-e9aa17815298.xls')\n",
        "\n",
        "# df.columns\n",
        "# order = df.to_timestamp('Order_Date') \n",
        "ship = df.Ship_Date\n",
        "order = df.Order_Date\n",
        "total = ship - order\n",
        "# total[1]\n",
        "# max(total)\n",
        "\n",
        "\n",
        "demora = []\n",
        "# # datetime.timedelta(1)\n",
        "for i in range (1,9994):\n",
        "    n=7\n",
        "    dias = datetime.timedelta(days=n)\n",
        "    if dias == total[i]:\n",
        "        demora.append(7)\n",
        "    n=6\n",
        "    dias = datetime.timedelta(days=n)\n",
        "\n",
        "    if dias == total[i]:\n",
        "         demora.append(6)\n",
        "    n=5\n",
        "    dias = datetime.timedelta(days=n)\n",
        "\n",
        "    if dias == total[i]:\n",
        "         demora.append(5)\n",
        "    n=4\n",
        "    dias = datetime.timedelta(days=n)\n",
        "\n",
        "    if dias == total[i]:\n",
        "         demora.append(4)\n",
        "    n=3\n",
        "    dias = datetime.timedelta(days=n)\n",
        "\n",
        "    if dias == total[i]:\n",
        "         demora.append(3)\n",
        "    n=2\n",
        "    dias = datetime.timedelta(days=n)\n",
        "\n",
        "    if dias == total[i]:\n",
        "         demora.append(2)    \n",
        "    n=1\n",
        "    dias = datetime.timedelta(days=n)\n",
        "\n",
        "    if dias == total[i]:\n",
        "         demora.append(1)    \n",
        "    n=0\n",
        "    dias = datetime.timedelta(days=n)\n",
        "\n",
        "    if dias == total[i]:\n",
        "         demora.append(0)\n"
      ],
      "execution_count": 89,
      "outputs": []
    },
    {
      "cell_type": "code",
      "metadata": {
        "colab": {
          "base_uri": "https://localhost:8080/",
          "height": 295
        },
        "id": "0CPfEF44PDa7",
        "outputId": "d04b599e-7e39-495c-cc2f-11bc3ad89695"
      },
      "source": [
        "\n",
        "intervalos = (range(min(demora), max(demora) +2))\n",
        "# edades = [12, 15, 13, 12, 18, 20, 19, 20, 13, 12, 13, 17, 15, 16, 13, 14, 13, 17, 19]\n",
        "\n",
        "# intervalos = [0, 1, 2, 3, 4, 5, 6, 7] #indicamos los extremos de los intervalos\n",
        "\n",
        "plt.hist(demora, bins=intervalos, color='r')\n",
        "plt.title('Histograma de los tiempos de demora en dias de los pedidos')\n",
        "plt.xlabel('Dias de demora')\n",
        "plt.ylabel('Cantida de pedidos')\n",
        "plt.xticks(intervalos)\n",
        "\n",
        "plt.show() #dibujamos el histograma"
      ],
      "execution_count": 16,
      "outputs": [
        {
          "output_type": "display_data",
          "data": {
            "image/png": "[encoded data removed]",
            "text/plain": [
              "<Figure size 432x288 with 1 Axes>"
            ]
          },
          "metadata": {
            "tags": [],
            "needs_background": "light"
          }
        }
      ]
    },
    {
      "cell_type": "code",
      "metadata": {
        "colab": {
          "base_uri": "https://localhost:8080/",
          "height": 248
        },
        "id": "oJd_f6bpQcDk",
        "outputId": "5a7e4533-5ccb-42d8-e2fe-e4cd3b1874b7"
      },
      "source": [
        "# df.columns\n",
        "# classs=[]\n",
        "first_class = 0\n",
        "second_class=0\n",
        "standard_class=0\n",
        "same_day =0\n",
        "ship_mode = df.Ship_Mode\n",
        "for i in range (1,9994):\n",
        "    if \"Standard Class\" in ship_mode[i]:\n",
        "        # classs.append(0)\n",
        "        standard_class +=1\n",
        "    if \"Second Class\" in ship_mode[i]:\n",
        "        # classs.append(1)\n",
        "        second_class +=1\n",
        "\n",
        "    if \"First Class\" in ship_mode[i]:\n",
        "        # classs.append(2)\n",
        "        first_class +=1\n",
        "\n",
        "    if \"Same Day\" in ship_mode[i]:\n",
        "        # classs.append(2)\n",
        "        same_day +=1\n",
        "classs= [standard_class, second_class, first_class, same_day]\n",
        "clases = [\"Standard Class\",\"Second Class\",\"First class\", \"same_day\"]\n",
        "plt.pie(classs, labels=clases)\n",
        "plt.show()\n",
        "      "
      ],
      "execution_count": 85,
      "outputs": [
        {
          "output_type": "display_data",
          "data": {
            "image/png": "[encoded data removed]",
            "text/plain": [
              "<Figure size 432x288 with 1 Axes>"
            ]
          },
          "metadata": {
            "tags": []
          }
        }
      ]
    },
    {
      "cell_type": "code",
      "metadata": {
        "id": "l6DyzFhzSVIT"
      },
      "source": [
        ""
      ],
      "execution_count": 92,
      "outputs": []
    },
    {
      "cell_type": "code",
      "metadata": {
        "id": "503BccO7ULyj"
      },
      "source": [
        "# # df.columns\n",
        "# classs=[]\n",
        "# void= []\n",
        "# ship_mode = df.Ship_Mode\n",
        "# for i in range (1,9994):\n",
        "#     if \"Standard Class\" in ship_mode[i]:\n",
        "#         classs.append(0)\n",
        "        \n",
        "#     elif \"Second Class\" in ship_mode[i]:\n",
        "#         classs.append(1)\n",
        "        \n",
        "\n",
        "#     elif \"First Class\" in ship_mode[i]:\n",
        "#         classs.append(2)\n",
        "#     elif \"Same Day\" in ship_mode[i]:\n",
        "#       classs.append(3)\n",
        "\n",
        "\n",
        "# plt.scatter(demora, classs)\n",
        "# plt.show()"
      ],
      "execution_count": 93,
      "outputs": []
    }
  ]
}