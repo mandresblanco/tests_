{
  "nbformat": 4,
  "nbformat_minor": 0,
  "metadata": {
    "colab": {
      "name": "Clustering.ipynb",
      "provenance": [],
      "authorship_tag": "ABX9TyPLHXHjQ5IKM1ItALYUSF8n",
      "include_colab_link": true
    },
    "kernelspec": {
      "name": "python3",
      "display_name": "Python 3"
    },
    "language_info": {
      "name": "python"
    }
  },
  "cells": [
    {
      "cell_type": "markdown",
      "metadata": {
        "id": "view-in-github",
        "colab_type": "text"
      },
      "source": [
        "<a href=\"https://colab.research.google.com/github/mandresblanco/tests_/blob/main/Clustering.ipynb\" target=\"_parent\"><img src=\"https://colab.research.google.com/assets/colab-badge.svg\" alt=\"Open In Colab\"/></a>"
      ]
    },
    {
      "cell_type": "code",
      "metadata": {
        "id": "xSm8_bV6A4mK"
      },
      "source": [
        "import numpy as np\n",
        "import matplotlib.pyplot as plt\n",
        "# Import style class from matplotlib and use that to applyggplot styling\n",
        "from matplotlib import style\n",
        "style.use('ggplot')\n",
        "# Get KMeans class from clustering library available within scikit-learn\n",
        "from sklearn.cluster import KMeans"
      ],
      "execution_count": 31,
      "outputs": []
    },
    {
      "cell_type": "code",
      "metadata": {
        "colab": {
          "base_uri": "https://localhost:8080/"
        },
        "id": "XQ4l4e9OCUrP",
        "outputId": "f90c15e3-8bcd-4234-a551-791995954a55"
      },
      "source": [
        "# Define data points on 2D plane using Cartesian coordinates\n",
        "X = np.array([[1, 2],\n",
        "[5, 8],\n",
        "[1.5, 1.8],\n",
        "[8, 8],\n",
        "[1, 0.6],\n",
        "[9, 11]])\n",
        "\n",
        "# Perform clustering using k-means algorithm\n",
        "kmeans = KMeans(n_clusters=3)\n",
        "kmeans.fit(X)\n"
      ],
      "execution_count": 37,
      "outputs": [
        {
          "output_type": "execute_result",
          "data": {
            "text/plain": [
              "KMeans(algorithm='auto', copy_x=True, init='k-means++', max_iter=300,\n",
              "       n_clusters=3, n_init=10, n_jobs=None, precompute_distances='auto',\n",
              "       random_state=None, tol=0.0001, verbose=0)"
            ]
          },
          "metadata": {
            "tags": []
          },
          "execution_count": 37
        }
      ]
    },
    {
      "cell_type": "code",
      "metadata": {
        "colab": {
          "base_uri": "https://localhost:8080/"
        },
        "id": "GuDom66VEX_N",
        "outputId": "b3cccd75-2382-4dfc-8974-35b7fcf97be1"
      },
      "source": [
        "\n",
        " #‘kmeans’ holds the model; extract information aboutclusters\n",
        "# as represented by their centroids, along with their labels\n",
        "centroids = kmeans.cluster_centers_\n",
        "labels = kmeans.labels_\n",
        "\n",
        "print(centroids)\n",
        "print(labels)\n"
      ],
      "execution_count": 39,
      "outputs": [
        {
          "output_type": "stream",
          "text": [
            "[[ 9.         11.        ]\n",
            " [ 1.16666667  1.46666667]\n",
            " [ 6.5         8.        ]]\n",
            "[1 2 1 2 1 0]\n"
          ],
          "name": "stdout"
        }
      ]
    },
    {
      "cell_type": "code",
      "metadata": {
        "colab": {
          "base_uri": "https://localhost:8080/",
          "height": 367
        },
        "id": "TUJeKdrdCJHv",
        "outputId": "dd8ec704-f13f-4a5f-8fd7-21a4441cf021"
      },
      "source": [
        "\n",
        "# Define a colors array\n",
        "colors = ['g.', 'r.', 'c.', 'y.','b.']\n",
        "\n",
        "# Loop to go through each data point, plotting it on the plane\n",
        "# with a color picked from the above list – one color per cluster\n",
        "for i in range(len(X)):\n",
        "    print('Coordinate:',X[i], 'Label:', labels[i])\n",
        "    plt.plot(X[i][0], X[i][1], colors[labels[i]],\n",
        "    markersize = 10)\n",
        "\n"
      ],
      "execution_count": 44,
      "outputs": [
        {
          "output_type": "stream",
          "text": [
            "Coordinate: [1. 2.] Label: 1\n",
            "Coordinate: [5. 8.] Label: 2\n",
            "Coordinate: [1.5 1.8] Label: 1\n",
            "Coordinate: [8. 8.] Label: 2\n",
            "Coordinate: [1.  0.6] Label: 1\n",
            "Coordinate: [ 9. 11.] Label: 0\n"
          ],
          "name": "stdout"
        },
        {
          "output_type": "display_data",
          "data": {
            "image/png": "[encoded data removed]",
            "text/plain": [
              "<Figure size 432x288 with 1 Axes>"
            ]
          },
          "metadata": {
            "tags": []
          }
        }
      ]
    },
    {
      "cell_type": "code",
      "metadata": {
        "colab": {
          "base_uri": "https://localhost:8080/",
          "height": 265
        },
        "id": "hJDXMj-5EbtL",
        "outputId": "73031897-4356-4f5d-b31a-52daabd455de"
      },
      "source": [
        "    # Plot the centroids using “x”\n",
        "plt.scatter(centroids[:, 0],centroids[:, 1],\n",
        "marker='x', s=150, linewidths=2, zorder=10)\n",
        "plt.show()"
      ],
      "execution_count": 41,
      "outputs": [
        {
          "output_type": "display_data",
          "data": {
            "image/png": "[encoded data removed]",
            "text/plain": [
              "<Figure size 432x288 with 1 Axes>"
            ]
          },
          "metadata": {
            "tags": []
          }
        }
      ]
    },
    {
      "cell_type": "code",
      "metadata": {
        "colab": {
          "base_uri": "https://localhost:8080/",
          "height": 367
        },
        "id": "g_S8PB8HElwt",
        "outputId": "d515a75c-b710-447e-8d7f-163a795b6ac8"
      },
      "source": [
        "\n",
        "# Define a colors array\n",
        "colors = ['g.', 'r.', 'c.', 'y.','b.']\n",
        "\n",
        "# Loop to go through each data point, plotting it on the plane\n",
        "# with a color picked from the above list – one color per cluster\n",
        "for i in range(len(X)):\n",
        "    print('Coordinate:',X[i], 'Label:', labels[i])\n",
        "    plt.plot(X[i][0], X[i][1], colors[labels[i]],\n",
        "    markersize = 10)\n",
        "\n",
        "\n",
        "# Plot the centroids using “x”\n",
        "plt.scatter(centroids[:, 0],centroids[:, 1],\n",
        "marker='x', s=150, linewidths=2, zorder=10)\n",
        "plt.show()\n"
      ],
      "execution_count": 43,
      "outputs": [
        {
          "output_type": "stream",
          "text": [
            "Coordinate: [1. 2.] Label: 1\n",
            "Coordinate: [5. 8.] Label: 2\n",
            "Coordinate: [1.5 1.8] Label: 1\n",
            "Coordinate: [8. 8.] Label: 2\n",
            "Coordinate: [1.  0.6] Label: 1\n",
            "Coordinate: [ 9. 11.] Label: 0\n"
          ],
          "name": "stdout"
        },
        {
          "output_type": "display_data",
          "data": {
            "image/png": "[encoded data removed]",
            "text/plain": [
              "<Figure size 432x288 with 1 Axes>"
            ]
          },
          "metadata": {
            "tags": []
          }
        }
      ]
    }
  ]
}