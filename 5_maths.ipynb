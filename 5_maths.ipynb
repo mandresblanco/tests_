{
  "nbformat": 4,
  "nbformat_minor": 0,
  "metadata": {
    "colab": {
      "name": "5 maths.ipynb",
      "provenance": [],
      "collapsed_sections": [],
      "authorship_tag": "ABX9TyMJ4XBsF9/yIUMzJPg19Tt4",
      "include_colab_link": true
    },
    "kernelspec": {
      "name": "python3",
      "display_name": "Python 3"
    },
    "language_info": {
      "name": "python"
    }
  },
  "cells": [
    {
      "cell_type": "markdown",
      "metadata": {
        "id": "view-in-github",
        "colab_type": "text"
      },
      "source": [
        "<a href=\"https://colab.research.google.com/github/mandresblanco/tests_/blob/main/5_maths.ipynb\" target=\"_parent\"><img src=\"https://colab.research.google.com/assets/colab-badge.svg\" alt=\"Open In Colab\"/></a>"
      ]
    },
    {
      "cell_type": "code",
      "metadata": {
        "colab": {
          "base_uri": "https://localhost:8080/"
        },
        "id": "cdBu1tiTgtR0",
        "outputId": "a3d429b2-2c28-4532-a131-e43f0f7fcb0a"
      },
      "source": [
        "from google.colab import drive\n",
        "drive.mount('/content/drive/')\n"
      ],
      "execution_count": 2,
      "outputs": [
        {
          "output_type": "stream",
          "text": [
            "Mounted at /content/drive/\n"
          ],
          "name": "stdout"
        }
      ]
    },
    {
      "cell_type": "code",
      "metadata": {
        "id": "wVSUBfSGiplV",
        "colab": {
          "base_uri": "https://localhost:8080/"
        },
        "outputId": "1d2ac38d-d3f1-40f4-dc28-935727357fdb"
      },
      "source": [
        "%cd '/content/drive/My Drive/Colab Notebooks/db'\n",
        "!ls"
      ],
      "execution_count": 5,
      "outputs": [
        {
          "output_type": "stream",
          "text": [
            "/content/drive/My Drive/Colab Notebooks/db\n",
            "london_merged.csv\ttest.csv  test.json    test.parquet  test.xlsx\n",
            "Meteorite_Landings.csv\ttest.hdf  test.paquet  test.pkl\n"
          ],
          "name": "stdout"
        }
      ]
    },
    {
      "cell_type": "code",
      "metadata": {
        "colab": {
          "base_uri": "https://localhost:8080/",
          "height": 35
        },
        "id": "iQb3phg_DXRa",
        "outputId": "1f54151e-e1e4-4c1b-d750-b5d94239e93f"
      },
      "source": [
        "import pandas as pd\n",
        "import numpy as np\n",
        "pd.__version__"
      ],
      "execution_count": 7,
      "outputs": [
        {
          "output_type": "execute_result",
          "data": {
            "application/vnd.google.colaboratory.intrinsic+json": {
              "type": "string"
            },
            "text/plain": [
              "'1.1.5'"
            ]
          },
          "metadata": {
            "tags": []
          },
          "execution_count": 7
        }
      ]
    },
    {
      "cell_type": "code",
      "metadata": {
        "colab": {
          "base_uri": "https://localhost:8080/",
          "height": 407
        },
        "id": "9w-Nq5npDi4Q",
        "outputId": "9892bbec-d184-4772-f38d-2cb3f61d3be7"
      },
      "source": [
        "df_lmerged = pd.read_csv('london_merged.csv')\n",
        "df_lmerged"
      ],
      "execution_count": 9,
      "outputs": [
        {
          "output_type": "execute_result",
          "data": {
            "text/html": [
              "<div>\n",
              "<style scoped>\n",
              "    .dataframe tbody tr th:only-of-type {\n",
              "        vertical-align: middle;\n",
              "    }\n",
              "\n",
              "    .dataframe tbody tr th {\n",
              "        vertical-align: top;\n",
              "    }\n",
              "\n",
              "    .dataframe thead th {\n",
              "        text-align: right;\n",
              "    }\n",
              "</style>\n",
              "<table border=\"1\" class=\"dataframe\">\n",
              "  <thead>\n",
              "    <tr style=\"text-align: right;\">\n",
              "      <th></th>\n",
              "      <th>timestamp</th>\n",
              "      <th>cnt</th>\n",
              "      <th>t1</th>\n",
              "      <th>t2</th>\n",
              "      <th>hum</th>\n",
              "      <th>wind_speed</th>\n",
              "      <th>weather_code</th>\n",
              "      <th>is_holiday</th>\n",
              "      <th>is_weekend</th>\n",
              "      <th>season</th>\n",
              "    </tr>\n",
              "  </thead>\n",
              "  <tbody>\n",
              "    <tr>\n",
              "      <th>0</th>\n",
              "      <td>2015-01-04 00:00:00</td>\n",
              "      <td>182</td>\n",
              "      <td>3.0</td>\n",
              "      <td>2.0</td>\n",
              "      <td>93.0</td>\n",
              "      <td>6.0</td>\n",
              "      <td>3.0</td>\n",
              "      <td>0.0</td>\n",
              "      <td>1.0</td>\n",
              "      <td>3.0</td>\n",
              "    </tr>\n",
              "    <tr>\n",
              "      <th>1</th>\n",
              "      <td>2015-01-04 01:00:00</td>\n",
              "      <td>138</td>\n",
              "      <td>3.0</td>\n",
              "      <td>2.5</td>\n",
              "      <td>93.0</td>\n",
              "      <td>5.0</td>\n",
              "      <td>1.0</td>\n",
              "      <td>0.0</td>\n",
              "      <td>1.0</td>\n",
              "      <td>3.0</td>\n",
              "    </tr>\n",
              "    <tr>\n",
              "      <th>2</th>\n",
              "      <td>2015-01-04 02:00:00</td>\n",
              "      <td>134</td>\n",
              "      <td>2.5</td>\n",
              "      <td>2.5</td>\n",
              "      <td>96.5</td>\n",
              "      <td>0.0</td>\n",
              "      <td>1.0</td>\n",
              "      <td>0.0</td>\n",
              "      <td>1.0</td>\n",
              "      <td>3.0</td>\n",
              "    </tr>\n",
              "    <tr>\n",
              "      <th>3</th>\n",
              "      <td>2015-01-04 03:00:00</td>\n",
              "      <td>72</td>\n",
              "      <td>2.0</td>\n",
              "      <td>2.0</td>\n",
              "      <td>100.0</td>\n",
              "      <td>0.0</td>\n",
              "      <td>1.0</td>\n",
              "      <td>0.0</td>\n",
              "      <td>1.0</td>\n",
              "      <td>3.0</td>\n",
              "    </tr>\n",
              "    <tr>\n",
              "      <th>4</th>\n",
              "      <td>2015-01-04 04:00:00</td>\n",
              "      <td>47</td>\n",
              "      <td>2.0</td>\n",
              "      <td>0.0</td>\n",
              "      <td>93.0</td>\n",
              "      <td>6.5</td>\n",
              "      <td>1.0</td>\n",
              "      <td>0.0</td>\n",
              "      <td>1.0</td>\n",
              "      <td>3.0</td>\n",
              "    </tr>\n",
              "    <tr>\n",
              "      <th>...</th>\n",
              "      <td>...</td>\n",
              "      <td>...</td>\n",
              "      <td>...</td>\n",
              "      <td>...</td>\n",
              "      <td>...</td>\n",
              "      <td>...</td>\n",
              "      <td>...</td>\n",
              "      <td>...</td>\n",
              "      <td>...</td>\n",
              "      <td>...</td>\n",
              "    </tr>\n",
              "    <tr>\n",
              "      <th>17409</th>\n",
              "      <td>2017-01-03 19:00:00</td>\n",
              "      <td>1042</td>\n",
              "      <td>5.0</td>\n",
              "      <td>1.0</td>\n",
              "      <td>81.0</td>\n",
              "      <td>19.0</td>\n",
              "      <td>3.0</td>\n",
              "      <td>0.0</td>\n",
              "      <td>0.0</td>\n",
              "      <td>3.0</td>\n",
              "    </tr>\n",
              "    <tr>\n",
              "      <th>17410</th>\n",
              "      <td>2017-01-03 20:00:00</td>\n",
              "      <td>541</td>\n",
              "      <td>5.0</td>\n",
              "      <td>1.0</td>\n",
              "      <td>81.0</td>\n",
              "      <td>21.0</td>\n",
              "      <td>4.0</td>\n",
              "      <td>0.0</td>\n",
              "      <td>0.0</td>\n",
              "      <td>3.0</td>\n",
              "    </tr>\n",
              "    <tr>\n",
              "      <th>17411</th>\n",
              "      <td>2017-01-03 21:00:00</td>\n",
              "      <td>337</td>\n",
              "      <td>5.5</td>\n",
              "      <td>1.5</td>\n",
              "      <td>78.5</td>\n",
              "      <td>24.0</td>\n",
              "      <td>4.0</td>\n",
              "      <td>0.0</td>\n",
              "      <td>0.0</td>\n",
              "      <td>3.0</td>\n",
              "    </tr>\n",
              "    <tr>\n",
              "      <th>17412</th>\n",
              "      <td>2017-01-03 22:00:00</td>\n",
              "      <td>224</td>\n",
              "      <td>5.5</td>\n",
              "      <td>1.5</td>\n",
              "      <td>76.0</td>\n",
              "      <td>23.0</td>\n",
              "      <td>4.0</td>\n",
              "      <td>0.0</td>\n",
              "      <td>0.0</td>\n",
              "      <td>3.0</td>\n",
              "    </tr>\n",
              "    <tr>\n",
              "      <th>17413</th>\n",
              "      <td>2017-01-03 23:00:00</td>\n",
              "      <td>139</td>\n",
              "      <td>5.0</td>\n",
              "      <td>1.0</td>\n",
              "      <td>76.0</td>\n",
              "      <td>22.0</td>\n",
              "      <td>2.0</td>\n",
              "      <td>0.0</td>\n",
              "      <td>0.0</td>\n",
              "      <td>3.0</td>\n",
              "    </tr>\n",
              "  </tbody>\n",
              "</table>\n",
              "<p>17414 rows × 10 columns</p>\n",
              "</div>"
            ],
            "text/plain": [
              "                 timestamp   cnt   t1  ...  is_holiday  is_weekend  season\n",
              "0      2015-01-04 00:00:00   182  3.0  ...         0.0         1.0     3.0\n",
              "1      2015-01-04 01:00:00   138  3.0  ...         0.0         1.0     3.0\n",
              "2      2015-01-04 02:00:00   134  2.5  ...         0.0         1.0     3.0\n",
              "3      2015-01-04 03:00:00    72  2.0  ...         0.0         1.0     3.0\n",
              "4      2015-01-04 04:00:00    47  2.0  ...         0.0         1.0     3.0\n",
              "...                    ...   ...  ...  ...         ...         ...     ...\n",
              "17409  2017-01-03 19:00:00  1042  5.0  ...         0.0         0.0     3.0\n",
              "17410  2017-01-03 20:00:00   541  5.0  ...         0.0         0.0     3.0\n",
              "17411  2017-01-03 21:00:00   337  5.5  ...         0.0         0.0     3.0\n",
              "17412  2017-01-03 22:00:00   224  5.5  ...         0.0         0.0     3.0\n",
              "17413  2017-01-03 23:00:00   139  5.0  ...         0.0         0.0     3.0\n",
              "\n",
              "[17414 rows x 10 columns]"
            ]
          },
          "metadata": {
            "tags": []
          },
          "execution_count": 9
        }
      ]
    },
    {
      "cell_type": "code",
      "metadata": {
        "colab": {
          "base_uri": "https://localhost:8080/"
        },
        "id": "-MeT-YaNEM5K",
        "outputId": "17945646-e227-456c-8d7e-47dbca878c8b"
      },
      "source": [
        "df_lmerged.dtypes"
      ],
      "execution_count": 10,
      "outputs": [
        {
          "output_type": "execute_result",
          "data": {
            "text/plain": [
              "timestamp        object\n",
              "cnt               int64\n",
              "t1              float64\n",
              "t2              float64\n",
              "hum             float64\n",
              "wind_speed      float64\n",
              "weather_code    float64\n",
              "is_holiday      float64\n",
              "is_weekend      float64\n",
              "season          float64\n",
              "dtype: object"
            ]
          },
          "metadata": {
            "tags": []
          },
          "execution_count": 10
        }
      ]
    },
    {
      "cell_type": "code",
      "metadata": {
        "colab": {
          "base_uri": "https://localhost:8080/"
        },
        "id": "-P1yRaLPESxd",
        "outputId": "d1df1d03-4de8-4d35-f805-b02a9c83a6fe"
      },
      "source": [
        "df_lmerged['timestamp']=pd.to_datetime(df_lmerged['timestamp'])\n",
        "df_lmerged['timestamp']"
      ],
      "execution_count": 12,
      "outputs": [
        {
          "output_type": "execute_result",
          "data": {
            "text/plain": [
              "0       2015-01-04 00:00:00\n",
              "1       2015-01-04 01:00:00\n",
              "2       2015-01-04 02:00:00\n",
              "3       2015-01-04 03:00:00\n",
              "4       2015-01-04 04:00:00\n",
              "                ...        \n",
              "17409   2017-01-03 19:00:00\n",
              "17410   2017-01-03 20:00:00\n",
              "17411   2017-01-03 21:00:00\n",
              "17412   2017-01-03 22:00:00\n",
              "17413   2017-01-03 23:00:00\n",
              "Name: timestamp, Length: 17414, dtype: datetime64[ns]"
            ]
          },
          "metadata": {
            "tags": []
          },
          "execution_count": 12
        }
      ]
    },
    {
      "cell_type": "code",
      "metadata": {
        "colab": {
          "base_uri": "https://localhost:8080/"
        },
        "id": "VBlMpZZPEnAR",
        "outputId": "96c26367-4c93-4c87-c5cf-32bbc45f521c"
      },
      "source": [
        "df_lmerged['hour'] =df_lmerged['timestamp'].dt.hour\n",
        "df_lmerged['hour']"
      ],
      "execution_count": 14,
      "outputs": [
        {
          "output_type": "execute_result",
          "data": {
            "text/plain": [
              "0         0\n",
              "1         1\n",
              "2         2\n",
              "3         3\n",
              "4         4\n",
              "         ..\n",
              "17409    19\n",
              "17410    20\n",
              "17411    21\n",
              "17412    22\n",
              "17413    23\n",
              "Name: hour, Length: 17414, dtype: int64"
            ]
          },
          "metadata": {
            "tags": []
          },
          "execution_count": 14
        }
      ]
    },
    {
      "cell_type": "code",
      "metadata": {
        "colab": {
          "base_uri": "https://localhost:8080/",
          "height": 407
        },
        "id": "l6s0aOEiE7uz",
        "outputId": "d7bf95d5-e930-47a5-9a9d-70e469c315e6"
      },
      "source": [
        "df = df_lmerged.iloc[:,1:]\n",
        "df"
      ],
      "execution_count": 16,
      "outputs": [
        {
          "output_type": "execute_result",
          "data": {
            "text/html": [
              "<div>\n",
              "<style scoped>\n",
              "    .dataframe tbody tr th:only-of-type {\n",
              "        vertical-align: middle;\n",
              "    }\n",
              "\n",
              "    .dataframe tbody tr th {\n",
              "        vertical-align: top;\n",
              "    }\n",
              "\n",
              "    .dataframe thead th {\n",
              "        text-align: right;\n",
              "    }\n",
              "</style>\n",
              "<table border=\"1\" class=\"dataframe\">\n",
              "  <thead>\n",
              "    <tr style=\"text-align: right;\">\n",
              "      <th></th>\n",
              "      <th>cnt</th>\n",
              "      <th>t1</th>\n",
              "      <th>t2</th>\n",
              "      <th>hum</th>\n",
              "      <th>wind_speed</th>\n",
              "      <th>weather_code</th>\n",
              "      <th>is_holiday</th>\n",
              "      <th>is_weekend</th>\n",
              "      <th>season</th>\n",
              "      <th>hour</th>\n",
              "    </tr>\n",
              "  </thead>\n",
              "  <tbody>\n",
              "    <tr>\n",
              "      <th>0</th>\n",
              "      <td>182</td>\n",
              "      <td>3.0</td>\n",
              "      <td>2.0</td>\n",
              "      <td>93.0</td>\n",
              "      <td>6.0</td>\n",
              "      <td>3.0</td>\n",
              "      <td>0.0</td>\n",
              "      <td>1.0</td>\n",
              "      <td>3.0</td>\n",
              "      <td>0</td>\n",
              "    </tr>\n",
              "    <tr>\n",
              "      <th>1</th>\n",
              "      <td>138</td>\n",
              "      <td>3.0</td>\n",
              "      <td>2.5</td>\n",
              "      <td>93.0</td>\n",
              "      <td>5.0</td>\n",
              "      <td>1.0</td>\n",
              "      <td>0.0</td>\n",
              "      <td>1.0</td>\n",
              "      <td>3.0</td>\n",
              "      <td>1</td>\n",
              "    </tr>\n",
              "    <tr>\n",
              "      <th>2</th>\n",
              "      <td>134</td>\n",
              "      <td>2.5</td>\n",
              "      <td>2.5</td>\n",
              "      <td>96.5</td>\n",
              "      <td>0.0</td>\n",
              "      <td>1.0</td>\n",
              "      <td>0.0</td>\n",
              "      <td>1.0</td>\n",
              "      <td>3.0</td>\n",
              "      <td>2</td>\n",
              "    </tr>\n",
              "    <tr>\n",
              "      <th>3</th>\n",
              "      <td>72</td>\n",
              "      <td>2.0</td>\n",
              "      <td>2.0</td>\n",
              "      <td>100.0</td>\n",
              "      <td>0.0</td>\n",
              "      <td>1.0</td>\n",
              "      <td>0.0</td>\n",
              "      <td>1.0</td>\n",
              "      <td>3.0</td>\n",
              "      <td>3</td>\n",
              "    </tr>\n",
              "    <tr>\n",
              "      <th>4</th>\n",
              "      <td>47</td>\n",
              "      <td>2.0</td>\n",
              "      <td>0.0</td>\n",
              "      <td>93.0</td>\n",
              "      <td>6.5</td>\n",
              "      <td>1.0</td>\n",
              "      <td>0.0</td>\n",
              "      <td>1.0</td>\n",
              "      <td>3.0</td>\n",
              "      <td>4</td>\n",
              "    </tr>\n",
              "    <tr>\n",
              "      <th>...</th>\n",
              "      <td>...</td>\n",
              "      <td>...</td>\n",
              "      <td>...</td>\n",
              "      <td>...</td>\n",
              "      <td>...</td>\n",
              "      <td>...</td>\n",
              "      <td>...</td>\n",
              "      <td>...</td>\n",
              "      <td>...</td>\n",
              "      <td>...</td>\n",
              "    </tr>\n",
              "    <tr>\n",
              "      <th>17409</th>\n",
              "      <td>1042</td>\n",
              "      <td>5.0</td>\n",
              "      <td>1.0</td>\n",
              "      <td>81.0</td>\n",
              "      <td>19.0</td>\n",
              "      <td>3.0</td>\n",
              "      <td>0.0</td>\n",
              "      <td>0.0</td>\n",
              "      <td>3.0</td>\n",
              "      <td>19</td>\n",
              "    </tr>\n",
              "    <tr>\n",
              "      <th>17410</th>\n",
              "      <td>541</td>\n",
              "      <td>5.0</td>\n",
              "      <td>1.0</td>\n",
              "      <td>81.0</td>\n",
              "      <td>21.0</td>\n",
              "      <td>4.0</td>\n",
              "      <td>0.0</td>\n",
              "      <td>0.0</td>\n",
              "      <td>3.0</td>\n",
              "      <td>20</td>\n",
              "    </tr>\n",
              "    <tr>\n",
              "      <th>17411</th>\n",
              "      <td>337</td>\n",
              "      <td>5.5</td>\n",
              "      <td>1.5</td>\n",
              "      <td>78.5</td>\n",
              "      <td>24.0</td>\n",
              "      <td>4.0</td>\n",
              "      <td>0.0</td>\n",
              "      <td>0.0</td>\n",
              "      <td>3.0</td>\n",
              "      <td>21</td>\n",
              "    </tr>\n",
              "    <tr>\n",
              "      <th>17412</th>\n",
              "      <td>224</td>\n",
              "      <td>5.5</td>\n",
              "      <td>1.5</td>\n",
              "      <td>76.0</td>\n",
              "      <td>23.0</td>\n",
              "      <td>4.0</td>\n",
              "      <td>0.0</td>\n",
              "      <td>0.0</td>\n",
              "      <td>3.0</td>\n",
              "      <td>22</td>\n",
              "    </tr>\n",
              "    <tr>\n",
              "      <th>17413</th>\n",
              "      <td>139</td>\n",
              "      <td>5.0</td>\n",
              "      <td>1.0</td>\n",
              "      <td>76.0</td>\n",
              "      <td>22.0</td>\n",
              "      <td>2.0</td>\n",
              "      <td>0.0</td>\n",
              "      <td>0.0</td>\n",
              "      <td>3.0</td>\n",
              "      <td>23</td>\n",
              "    </tr>\n",
              "  </tbody>\n",
              "</table>\n",
              "<p>17414 rows × 10 columns</p>\n",
              "</div>"
            ],
            "text/plain": [
              "        cnt   t1   t2    hum  ...  is_holiday  is_weekend  season  hour\n",
              "0       182  3.0  2.0   93.0  ...         0.0         1.0     3.0     0\n",
              "1       138  3.0  2.5   93.0  ...         0.0         1.0     3.0     1\n",
              "2       134  2.5  2.5   96.5  ...         0.0         1.0     3.0     2\n",
              "3        72  2.0  2.0  100.0  ...         0.0         1.0     3.0     3\n",
              "4        47  2.0  0.0   93.0  ...         0.0         1.0     3.0     4\n",
              "...     ...  ...  ...    ...  ...         ...         ...     ...   ...\n",
              "17409  1042  5.0  1.0   81.0  ...         0.0         0.0     3.0    19\n",
              "17410   541  5.0  1.0   81.0  ...         0.0         0.0     3.0    20\n",
              "17411   337  5.5  1.5   78.5  ...         0.0         0.0     3.0    21\n",
              "17412   224  5.5  1.5   76.0  ...         0.0         0.0     3.0    22\n",
              "17413   139  5.0  1.0   76.0  ...         0.0         0.0     3.0    23\n",
              "\n",
              "[17414 rows x 10 columns]"
            ]
          },
          "metadata": {
            "tags": []
          },
          "execution_count": 16
        }
      ]
    },
    {
      "cell_type": "code",
      "metadata": {
        "colab": {
          "base_uri": "https://localhost:8080/"
        },
        "id": "SQHJhM5cFQy5",
        "outputId": "20dde453-f0db-46a2-b79a-cc4ab93eedea"
      },
      "source": [
        "np.sin(df['wind_speed']**2) +10"
      ],
      "execution_count": 18,
      "outputs": [
        {
          "output_type": "execute_result",
          "data": {
            "text/plain": [
              "0         9.008221\n",
              "1         9.867648\n",
              "2        10.000000\n",
              "3        10.000000\n",
              "4         9.013013\n",
              "           ...    \n",
              "17409    10.279387\n",
              "17410    10.923470\n",
              "17411     9.114047\n",
              "17412    10.936473\n",
              "17413    10.193503\n",
              "Name: wind_speed, Length: 17414, dtype: float64"
            ]
          },
          "metadata": {
            "tags": []
          },
          "execution_count": 18
        }
      ]
    },
    {
      "cell_type": "code",
      "metadata": {
        "colab": {
          "base_uri": "https://localhost:8080/"
        },
        "id": "HZMNv_m5Fkx2",
        "outputId": "eedb1319-980c-40f1-b8b7-732f822d141f"
      },
      "source": [
        "df['t1']-df['t2']"
      ],
      "execution_count": 19,
      "outputs": [
        {
          "output_type": "execute_result",
          "data": {
            "text/plain": [
              "0        1.0\n",
              "1        0.5\n",
              "2        0.0\n",
              "3        0.0\n",
              "4        2.0\n",
              "        ... \n",
              "17409    4.0\n",
              "17410    4.0\n",
              "17411    4.0\n",
              "17412    4.0\n",
              "17413    4.0\n",
              "Length: 17414, dtype: float64"
            ]
          },
          "metadata": {
            "tags": []
          },
          "execution_count": 19
        }
      ]
    },
    {
      "cell_type": "code",
      "metadata": {
        "colab": {
          "base_uri": "https://localhost:8080/"
        },
        "id": "Eotsn6SsFsGO",
        "outputId": "57145d2f-be58-44d2-b535-808d75e34b51"
      },
      "source": [
        "df['t1'].iloc[::2]"
      ],
      "execution_count": 25,
      "outputs": [
        {
          "output_type": "execute_result",
          "data": {
            "text/plain": [
              "0        3.0\n",
              "2        2.5\n",
              "4        2.0\n",
              "6        1.0\n",
              "8        1.5\n",
              "        ... \n",
              "17404    6.0\n",
              "17406    6.0\n",
              "17408    5.0\n",
              "17410    5.0\n",
              "17412    5.5\n",
              "Name: t1, Length: 8707, dtype: float64"
            ]
          },
          "metadata": {
            "tags": []
          },
          "execution_count": 25
        }
      ]
    },
    {
      "cell_type": "code",
      "metadata": {
        "colab": {
          "base_uri": "https://localhost:8080/"
        },
        "id": "tbCA_vFoGSe-",
        "outputId": "f8286c0c-3bb6-4b04-971c-8bd1dfb9e5ba"
      },
      "source": [
        "df['t1'].iloc[::2]-df['t2']"
      ],
      "execution_count": 24,
      "outputs": [
        {
          "output_type": "execute_result",
          "data": {
            "text/plain": [
              "0        1.0\n",
              "1        NaN\n",
              "2        0.0\n",
              "3        NaN\n",
              "4        2.0\n",
              "        ... \n",
              "17409    NaN\n",
              "17410    4.0\n",
              "17411    NaN\n",
              "17412    4.0\n",
              "17413    NaN\n",
              "Length: 17414, dtype: float64"
            ]
          },
          "metadata": {
            "tags": []
          },
          "execution_count": 24
        }
      ]
    },
    {
      "cell_type": "code",
      "metadata": {
        "id": "kz4mKdtaGI6J"
      },
      "source": [
        ""
      ],
      "execution_count": null,
      "outputs": []
    },
    {
      "cell_type": "code",
      "metadata": {
        "colab": {
          "base_uri": "https://localhost:8080/"
        },
        "id": "kN9QlB5DFhWz",
        "outputId": "35d22f4f-2af2-41db-9240-d78d0cfd0369"
      },
      "source": [
        "df['t1'].iloc[::2].sub(df['t2'], fill_value=1000)"
      ],
      "execution_count": 27,
      "outputs": [
        {
          "output_type": "execute_result",
          "data": {
            "text/plain": [
              "0          1.0\n",
              "1        997.5\n",
              "2          0.0\n",
              "3        998.0\n",
              "4          2.0\n",
              "         ...  \n",
              "17409    999.0\n",
              "17410      4.0\n",
              "17411    998.5\n",
              "17412      4.0\n",
              "17413    999.0\n",
              "Length: 17414, dtype: float64"
            ]
          },
          "metadata": {
            "tags": []
          },
          "execution_count": 27
        }
      ]
    },
    {
      "cell_type": "code",
      "metadata": {
        "colab": {
          "base_uri": "https://localhost:8080/"
        },
        "id": "yAeKC4C8Gm-O",
        "outputId": "e34aaff0-9943-42c5-a952-217cc9e86ffa"
      },
      "source": [
        "df['t1'].dot(df['t1'])"
      ],
      "execution_count": 28,
      "outputs": [
        {
          "output_type": "execute_result",
          "data": {
            "text/plain": [
              "3247652.777777778"
            ]
          },
          "metadata": {
            "tags": []
          },
          "execution_count": 28
        }
      ]
    },
    {
      "cell_type": "code",
      "metadata": {
        "colab": {
          "base_uri": "https://localhost:8080/"
        },
        "id": "qiRhq_0qG4Z_",
        "outputId": "c359299e-81a0-425b-f12c-54b3e7358544"
      },
      "source": [
        "def fun_1(x):\n",
        "  y=x**2 +1\n",
        "  return y\n",
        "fun_1(10)\n"
      ],
      "execution_count": 29,
      "outputs": [
        {
          "output_type": "execute_result",
          "data": {
            "text/plain": [
              "101"
            ]
          },
          "metadata": {
            "tags": []
          },
          "execution_count": 29
        }
      ]
    },
    {
      "cell_type": "code",
      "metadata": {
        "colab": {
          "base_uri": "https://localhost:8080/"
        },
        "id": "NwLxoe3-HL-H",
        "outputId": "51ef6351-27ec-4ea5-afc4-50ec15e79fe9"
      },
      "source": [
        "np.arange(-5,5)"
      ],
      "execution_count": 30,
      "outputs": [
        {
          "output_type": "execute_result",
          "data": {
            "text/plain": [
              "array([-5, -4, -3, -2, -1,  0,  1,  2,  3,  4])"
            ]
          },
          "metadata": {
            "tags": []
          },
          "execution_count": 30
        }
      ]
    },
    {
      "cell_type": "code",
      "metadata": {
        "colab": {
          "base_uri": "https://localhost:8080/"
        },
        "id": "Bt3f1LWxHRmW",
        "outputId": "82d83771-2b36-4a40-a7a7-9033d3d16777"
      },
      "source": [
        "np.arange(-5,5).shape\n"
      ],
      "execution_count": 31,
      "outputs": [
        {
          "output_type": "execute_result",
          "data": {
            "text/plain": [
              "(10,)"
            ]
          },
          "metadata": {
            "tags": []
          },
          "execution_count": 31
        }
      ]
    },
    {
      "cell_type": "code",
      "metadata": {
        "colab": {
          "base_uri": "https://localhost:8080/"
        },
        "id": "57q_O7DCHVwe",
        "outputId": "70f82526-a5a3-4dea-da63-d1c645bda2e1"
      },
      "source": [
        "fun_1(np.arange(-5,5))"
      ],
      "execution_count": 32,
      "outputs": [
        {
          "output_type": "execute_result",
          "data": {
            "text/plain": [
              "array([26, 17, 10,  5,  2,  1,  2,  5, 10, 17])"
            ]
          },
          "metadata": {
            "tags": []
          },
          "execution_count": 32
        }
      ]
    },
    {
      "cell_type": "code",
      "metadata": {
        "colab": {
          "base_uri": "https://localhost:8080/"
        },
        "id": "j4IJz-CrHch2",
        "outputId": "e827f331-c31d-41a8-fcfd-edb41cb1fb12"
      },
      "source": [
        "df['hour'].apply(fun_1)"
      ],
      "execution_count": 33,
      "outputs": [
        {
          "output_type": "execute_result",
          "data": {
            "text/plain": [
              "0          1\n",
              "1          2\n",
              "2          5\n",
              "3         10\n",
              "4         17\n",
              "        ... \n",
              "17409    362\n",
              "17410    401\n",
              "17411    442\n",
              "17412    485\n",
              "17413    530\n",
              "Name: hour, Length: 17414, dtype: int64"
            ]
          },
          "metadata": {
            "tags": []
          },
          "execution_count": 33
        }
      ]
    },
    {
      "cell_type": "code",
      "metadata": {
        "colab": {
          "base_uri": "https://localhost:8080/"
        },
        "id": "gQ4WSSPiHxMn",
        "outputId": "6df5d917-27e8-44a4-9801-08f6e221f6c0"
      },
      "source": [
        "def fun_2(x, a=1, b=0):\n",
        "  y=x**2 + a*x + b\n",
        "  return y\n",
        "fun_2(10,a=20,b=100)"
      ],
      "execution_count": 39,
      "outputs": [
        {
          "output_type": "execute_result",
          "data": {
            "text/plain": [
              "210"
            ]
          },
          "metadata": {
            "tags": []
          },
          "execution_count": 39
        }
      ]
    },
    {
      "cell_type": "code",
      "metadata": {
        "colab": {
          "base_uri": "https://localhost:8080/"
        },
        "id": "KDzFak7RISef",
        "outputId": "b52b78f1-996c-4177-fac7-c7b071dbe2b8"
      },
      "source": [
        "df['hour'].apply(fun_2, args=(20,-100))\n",
        "df['hour'].apply(fun_2, a=20,b=-100)\n"
      ],
      "execution_count": 42,
      "outputs": [
        {
          "output_type": "execute_result",
          "data": {
            "text/plain": [
              "0       -100\n",
              "1        -79\n",
              "2        -56\n",
              "3        -31\n",
              "4         -4\n",
              "        ... \n",
              "17409    641\n",
              "17410    700\n",
              "17411    761\n",
              "17412    824\n",
              "17413    889\n",
              "Name: hour, Length: 17414, dtype: int64"
            ]
          },
          "metadata": {
            "tags": []
          },
          "execution_count": 42
        }
      ]
    },
    {
      "cell_type": "code",
      "metadata": {
        "colab": {
          "base_uri": "https://localhost:8080/"
        },
        "id": "yt2NGjYvIp2-",
        "outputId": "04aae461-4305-4ea4-abbc-661ba7e7b5d1"
      },
      "source": [
        "df['t1'].apply(lambda x: x+273)\n"
      ],
      "execution_count": 43,
      "outputs": [
        {
          "output_type": "execute_result",
          "data": {
            "text/plain": [
              "0        276.0\n",
              "1        276.0\n",
              "2        275.5\n",
              "3        275.0\n",
              "4        275.0\n",
              "         ...  \n",
              "17409    278.0\n",
              "17410    278.0\n",
              "17411    278.5\n",
              "17412    278.5\n",
              "17413    278.0\n",
              "Name: t1, Length: 17414, dtype: float64"
            ]
          },
          "metadata": {
            "tags": []
          },
          "execution_count": 43
        }
      ]
    },
    {
      "cell_type": "code",
      "metadata": {
        "colab": {
          "base_uri": "https://localhost:8080/"
        },
        "id": "eu98NiJ7I5pt",
        "outputId": "afedcee2-2c08-4057-e014-0bd918e433a3"
      },
      "source": [
        "df.apply(lambda x: x.mean())"
      ],
      "execution_count": 44,
      "outputs": [
        {
          "output_type": "execute_result",
          "data": {
            "text/plain": [
              "cnt             1143.101642\n",
              "t1                12.468091\n",
              "t2                11.520836\n",
              "hum               72.324954\n",
              "wind_speed        15.913063\n",
              "weather_code       2.722752\n",
              "is_holiday         0.022051\n",
              "is_weekend         0.285403\n",
              "season             1.492075\n",
              "hour              11.513265\n",
              "dtype: float64"
            ]
          },
          "metadata": {
            "tags": []
          },
          "execution_count": 44
        }
      ]
    },
    {
      "cell_type": "code",
      "metadata": {
        "colab": {
          "base_uri": "https://localhost:8080/"
        },
        "id": "3w8FQ0vXJFLH",
        "outputId": "784474bf-12e6-45ce-b059-0fab49ddd3ff"
      },
      "source": [
        "df.apply(lambda x: x.mean(),axis=1)"
      ],
      "execution_count": 45,
      "outputs": [
        {
          "output_type": "execute_result",
          "data": {
            "text/plain": [
              "0         29.30\n",
              "1         24.75\n",
              "2         24.25\n",
              "3         18.40\n",
              "4         15.75\n",
              "          ...  \n",
              "17409    117.30\n",
              "17410     67.60\n",
              "17411     47.45\n",
              "17412     35.90\n",
              "17413     27.10\n",
              "Length: 17414, dtype: float64"
            ]
          },
          "metadata": {
            "tags": []
          },
          "execution_count": 45
        }
      ]
    },
    {
      "cell_type": "code",
      "metadata": {
        "colab": {
          "base_uri": "https://localhost:8080/"
        },
        "id": "Ecp7rXONIDhH",
        "outputId": "f2c8fa89-4fe6-4c11-9a33-e925a739b8e4"
      },
      "source": [
        "df.apply(lambda x: x['t1']-x['t2'],axis=1)"
      ],
      "execution_count": 47,
      "outputs": [
        {
          "output_type": "execute_result",
          "data": {
            "text/plain": [
              "0        1.0\n",
              "1        0.5\n",
              "2        0.0\n",
              "3        0.0\n",
              "4        2.0\n",
              "        ... \n",
              "17409    4.0\n",
              "17410    4.0\n",
              "17411    4.0\n",
              "17412    4.0\n",
              "17413    4.0\n",
              "Length: 17414, dtype: float64"
            ]
          },
          "metadata": {
            "tags": []
          },
          "execution_count": 47
        }
      ]
    },
    {
      "cell_type": "code",
      "metadata": {
        "colab": {
          "base_uri": "https://localhost:8080/",
          "height": 407
        },
        "id": "qMLARRy7JbV4",
        "outputId": "725b99a2-ea40-4a04-bd3b-a650dabac7e8"
      },
      "source": [
        "df.applymap(lambda x: x/1000)"
      ],
      "execution_count": 48,
      "outputs": [
        {
          "output_type": "execute_result",
          "data": {
            "text/html": [
              "<div>\n",
              "<style scoped>\n",
              "    .dataframe tbody tr th:only-of-type {\n",
              "        vertical-align: middle;\n",
              "    }\n",
              "\n",
              "    .dataframe tbody tr th {\n",
              "        vertical-align: top;\n",
              "    }\n",
              "\n",
              "    .dataframe thead th {\n",
              "        text-align: right;\n",
              "    }\n",
              "</style>\n",
              "<table border=\"1\" class=\"dataframe\">\n",
              "  <thead>\n",
              "    <tr style=\"text-align: right;\">\n",
              "      <th></th>\n",
              "      <th>cnt</th>\n",
              "      <th>t1</th>\n",
              "      <th>t2</th>\n",
              "      <th>hum</th>\n",
              "      <th>wind_speed</th>\n",
              "      <th>weather_code</th>\n",
              "      <th>is_holiday</th>\n",
              "      <th>is_weekend</th>\n",
              "      <th>season</th>\n",
              "      <th>hour</th>\n",
              "    </tr>\n",
              "  </thead>\n",
              "  <tbody>\n",
              "    <tr>\n",
              "      <th>0</th>\n",
              "      <td>0.182</td>\n",
              "      <td>0.0030</td>\n",
              "      <td>0.0020</td>\n",
              "      <td>0.0930</td>\n",
              "      <td>0.0060</td>\n",
              "      <td>0.003</td>\n",
              "      <td>0.0</td>\n",
              "      <td>0.001</td>\n",
              "      <td>0.003</td>\n",
              "      <td>0.000</td>\n",
              "    </tr>\n",
              "    <tr>\n",
              "      <th>1</th>\n",
              "      <td>0.138</td>\n",
              "      <td>0.0030</td>\n",
              "      <td>0.0025</td>\n",
              "      <td>0.0930</td>\n",
              "      <td>0.0050</td>\n",
              "      <td>0.001</td>\n",
              "      <td>0.0</td>\n",
              "      <td>0.001</td>\n",
              "      <td>0.003</td>\n",
              "      <td>0.001</td>\n",
              "    </tr>\n",
              "    <tr>\n",
              "      <th>2</th>\n",
              "      <td>0.134</td>\n",
              "      <td>0.0025</td>\n",
              "      <td>0.0025</td>\n",
              "      <td>0.0965</td>\n",
              "      <td>0.0000</td>\n",
              "      <td>0.001</td>\n",
              "      <td>0.0</td>\n",
              "      <td>0.001</td>\n",
              "      <td>0.003</td>\n",
              "      <td>0.002</td>\n",
              "    </tr>\n",
              "    <tr>\n",
              "      <th>3</th>\n",
              "      <td>0.072</td>\n",
              "      <td>0.0020</td>\n",
              "      <td>0.0020</td>\n",
              "      <td>0.1000</td>\n",
              "      <td>0.0000</td>\n",
              "      <td>0.001</td>\n",
              "      <td>0.0</td>\n",
              "      <td>0.001</td>\n",
              "      <td>0.003</td>\n",
              "      <td>0.003</td>\n",
              "    </tr>\n",
              "    <tr>\n",
              "      <th>4</th>\n",
              "      <td>0.047</td>\n",
              "      <td>0.0020</td>\n",
              "      <td>0.0000</td>\n",
              "      <td>0.0930</td>\n",
              "      <td>0.0065</td>\n",
              "      <td>0.001</td>\n",
              "      <td>0.0</td>\n",
              "      <td>0.001</td>\n",
              "      <td>0.003</td>\n",
              "      <td>0.004</td>\n",
              "    </tr>\n",
              "    <tr>\n",
              "      <th>...</th>\n",
              "      <td>...</td>\n",
              "      <td>...</td>\n",
              "      <td>...</td>\n",
              "      <td>...</td>\n",
              "      <td>...</td>\n",
              "      <td>...</td>\n",
              "      <td>...</td>\n",
              "      <td>...</td>\n",
              "      <td>...</td>\n",
              "      <td>...</td>\n",
              "    </tr>\n",
              "    <tr>\n",
              "      <th>17409</th>\n",
              "      <td>1.042</td>\n",
              "      <td>0.0050</td>\n",
              "      <td>0.0010</td>\n",
              "      <td>0.0810</td>\n",
              "      <td>0.0190</td>\n",
              "      <td>0.003</td>\n",
              "      <td>0.0</td>\n",
              "      <td>0.000</td>\n",
              "      <td>0.003</td>\n",
              "      <td>0.019</td>\n",
              "    </tr>\n",
              "    <tr>\n",
              "      <th>17410</th>\n",
              "      <td>0.541</td>\n",
              "      <td>0.0050</td>\n",
              "      <td>0.0010</td>\n",
              "      <td>0.0810</td>\n",
              "      <td>0.0210</td>\n",
              "      <td>0.004</td>\n",
              "      <td>0.0</td>\n",
              "      <td>0.000</td>\n",
              "      <td>0.003</td>\n",
              "      <td>0.020</td>\n",
              "    </tr>\n",
              "    <tr>\n",
              "      <th>17411</th>\n",
              "      <td>0.337</td>\n",
              "      <td>0.0055</td>\n",
              "      <td>0.0015</td>\n",
              "      <td>0.0785</td>\n",
              "      <td>0.0240</td>\n",
              "      <td>0.004</td>\n",
              "      <td>0.0</td>\n",
              "      <td>0.000</td>\n",
              "      <td>0.003</td>\n",
              "      <td>0.021</td>\n",
              "    </tr>\n",
              "    <tr>\n",
              "      <th>17412</th>\n",
              "      <td>0.224</td>\n",
              "      <td>0.0055</td>\n",
              "      <td>0.0015</td>\n",
              "      <td>0.0760</td>\n",
              "      <td>0.0230</td>\n",
              "      <td>0.004</td>\n",
              "      <td>0.0</td>\n",
              "      <td>0.000</td>\n",
              "      <td>0.003</td>\n",
              "      <td>0.022</td>\n",
              "    </tr>\n",
              "    <tr>\n",
              "      <th>17413</th>\n",
              "      <td>0.139</td>\n",
              "      <td>0.0050</td>\n",
              "      <td>0.0010</td>\n",
              "      <td>0.0760</td>\n",
              "      <td>0.0220</td>\n",
              "      <td>0.002</td>\n",
              "      <td>0.0</td>\n",
              "      <td>0.000</td>\n",
              "      <td>0.003</td>\n",
              "      <td>0.023</td>\n",
              "    </tr>\n",
              "  </tbody>\n",
              "</table>\n",
              "<p>17414 rows × 10 columns</p>\n",
              "</div>"
            ],
            "text/plain": [
              "         cnt      t1      t2     hum  ...  is_holiday  is_weekend  season   hour\n",
              "0      0.182  0.0030  0.0020  0.0930  ...         0.0       0.001   0.003  0.000\n",
              "1      0.138  0.0030  0.0025  0.0930  ...         0.0       0.001   0.003  0.001\n",
              "2      0.134  0.0025  0.0025  0.0965  ...         0.0       0.001   0.003  0.002\n",
              "3      0.072  0.0020  0.0020  0.1000  ...         0.0       0.001   0.003  0.003\n",
              "4      0.047  0.0020  0.0000  0.0930  ...         0.0       0.001   0.003  0.004\n",
              "...      ...     ...     ...     ...  ...         ...         ...     ...    ...\n",
              "17409  1.042  0.0050  0.0010  0.0810  ...         0.0       0.000   0.003  0.019\n",
              "17410  0.541  0.0050  0.0010  0.0810  ...         0.0       0.000   0.003  0.020\n",
              "17411  0.337  0.0055  0.0015  0.0785  ...         0.0       0.000   0.003  0.021\n",
              "17412  0.224  0.0055  0.0015  0.0760  ...         0.0       0.000   0.003  0.022\n",
              "17413  0.139  0.0050  0.0010  0.0760  ...         0.0       0.000   0.003  0.023\n",
              "\n",
              "[17414 rows x 10 columns]"
            ]
          },
          "metadata": {
            "tags": []
          },
          "execution_count": 48
        }
      ]
    },
    {
      "cell_type": "code",
      "metadata": {
        "id": "07O41WkZJiHV"
      },
      "source": [
        ""
      ],
      "execution_count": null,
      "outputs": []
    }
  ]
}