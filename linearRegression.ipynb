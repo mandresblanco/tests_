{
  "nbformat": 4,
  "nbformat_minor": 0,
  "metadata": {
    "colab": {
      "name": "linearRegression.ipynb",
      "provenance": [],
      "collapsed_sections": [],
      "authorship_tag": "ABX9TyPUIGT10HzWln/spU+NtyL/",
      "include_colab_link": true
    },
    "kernelspec": {
      "name": "python3",
      "display_name": "Python 3"
    },
    "language_info": {
      "name": "python"
    }
  },
  "cells": [
    {
      "cell_type": "markdown",
      "metadata": {
        "id": "view-in-github",
        "colab_type": "text"
      },
      "source": [
        "<a href=\"https://colab.research.google.com/github/mandresblanco/tests_/blob/main/linearRegression.ipynb\" target=\"_parent\"><img src=\"https://colab.research.google.com/assets/colab-badge.svg\" alt=\"Open In Colab\"/></a>"
      ]
    },
    {
      "cell_type": "code",
      "metadata": {
        "id": "pCwKbPh_c-j7"
      },
      "source": [
        "import numpy as np\n",
        "import matplotlib.pyplot as plt\n",
        "import pandas as pd\n"
      ],
      "execution_count": 49,
      "outputs": []
    },
    {
      "cell_type": "code",
      "metadata": {
        "id": "tF60_rR8dXq7"
      },
      "source": [
        "def estimate_b0_b1(x,y):\n",
        "    n = np.size(x)\n",
        "\n",
        "    m_x, m_y = np.mean(x), np.mean(y)\n",
        "    sum_xy = np.sum((x-m_x)*(y-m_y))\n",
        "    sum_xx = np.sum((x-m_x)**2)\n",
        "\n",
        "    b_1 = sum_xy/sum_xx\n",
        "    b_0 = m_y - b_1*m_x\n",
        "\n",
        "    return(b_0, b_1)\n"
      ],
      "execution_count": 50,
      "outputs": []
    },
    {
      "cell_type": "code",
      "metadata": {
        "id": "m9W74lslgAfK"
      },
      "source": [
        "def main():\n",
        "\n",
        "    df = pd.read_csv('/content/regresionlineal.csv')\n",
        "    x = df['Atitude'].values\n",
        "    y = df['score'].values\n",
        "    # print(df)\n",
        "    # x = np.array([1,2,3,4,5,])\n",
        "    # y = np.array([2,3,5,6,5,])\n",
        "\n",
        "    b = estimate_b0_b1 (x, y)\n",
        "    print('Values b0= {}, b1{} '.format(b[0], b[1]))\n",
        "\n",
        "    plot_regression(x, y, b)"
      ],
      "execution_count": 53,
      "outputs": []
    },
    {
      "cell_type": "code",
      "metadata": {
        "colab": {
          "base_uri": "https://localhost:8080/",
          "height": 296
        },
        "id": "i9SMyeiSfEp7",
        "outputId": "8e43c26e-0ce0-4014-97cd-7d50129bfca2"
      },
      "source": [
        "def plot_regression(x, y, b):\n",
        "    plt.scatter(x, y, c='g', marker='o', s=30)\n",
        "\n",
        "    y_predict = b[0] + b[1]*x\n",
        "    plt.plot(x, y_predict, c='r')\n",
        "\n",
        "    plt.xlabel('x-independient')\n",
        "    plt.ylabel('y-dependient')\n",
        "\n",
        "    plt.show()\n",
        "\n",
        "\n",
        "\n",
        "if __name__ == '__main__':\n",
        "    main()\n",
        "    \n",
        "    \n",
        "\n",
        "\n"
      ],
      "execution_count": 54,
      "outputs": [
        {
          "output_type": "stream",
          "text": [
            "Values b0= -330.4606481481481, b16.93287037037037 \n"
          ],
          "name": "stdout"
        },
        {
          "output_type": "display_data",
          "data": {
            "image/png": "[encoded data removed]",
            "text/plain": [
              "<Figure size 432x288 with 1 Axes>"
            ]
          },
          "metadata": {
            "tags": [],
            "needs_background": "light"
          }
        }
      ]
    },
    {
      "cell_type": "code",
      "metadata": {
        "id": "7xHuWxFhhqKe"
      },
      "source": [
        ""
      ],
      "execution_count": null,
      "outputs": []
    }
  ]
}